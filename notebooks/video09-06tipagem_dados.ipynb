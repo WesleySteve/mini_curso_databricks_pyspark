{
 "cells": [
  {
   "cell_type": "code",
   "execution_count": null,
   "metadata": {},
   "outputs": [],
   "source": []
  },
  {
   "cell_type": "code",
   "execution_count": null,
   "metadata": {},
   "outputs": [],
   "source": [
    "# iportando dados com header ja defindo sql.functions\n",
    "from pyspark.sql.functions import *\n",
    "\n",
    "df_carros = spark.read.format('csv')\n",
    "  .option('header', True)\n",
    "  .option('delimiter', ',')\n",
    "  # .option('encoding', 'utf-8')      \n",
    "  .load('./data/modelo_carro.csv')\n",
    "\n",
    "df_carros = df_carros.withColumn(\n",
    "  'preco',\n",
    "  regexp_replace(col('preco'), '\\$', '')\n",
    "  \n",
    ")\n",
    "\n",
    "display(df_carros)"
   ]
  },
  {
   "cell_type": "code",
   "execution_count": null,
   "metadata": {},
   "outputs": [],
   "source": [
    "# criando tabela temporária\n",
    "df_carros.createOrReplaceTempView('carros')\n",
    "\n",
    "df_carros_sql = spark.sql('''\n",
    "                        SELECT CAST(id_carro AS INT) AS id_carro,\n",
    "                            modelo_carro,\n",
    "                            CAST(preco AS DOUBLE) AS preco,\n",
    "                            CAST(cod_marca AS INT) AS cod_marca\n",
    "                        FROM carros\n",
    "                  ''')\n",
    "\n",
    "display(df_carros_sql)"
   ]
  },
  {
   "cell_type": "code",
   "execution_count": null,
   "metadata": {},
   "outputs": [],
   "source": [
    "# vizualizando o schema dos dados\n",
    "df_carros_sql.printSchena()"
   ]
  },
  {
   "cell_type": "code",
   "execution_count": null,
   "metadata": {},
   "outputs": [],
   "source": [
    "# tipagem do campo id_carro\n",
    "%sql\n",
    "SELECT CAST(id_carro AS INT) AS id_carro,\n",
    "      modelo_carro,\n",
    "      CAST(preco AS DOUBLE) AS preco,\n",
    "      CAST(cod_marca AS INT) AS cod_marca\n",
    "FROM carros"
   ]
  },
  {
   "cell_type": "code",
   "execution_count": null,
   "metadata": {},
   "outputs": [],
   "source": [
    "# fazendo com o pyspark com withColumn\n",
    "\n",
    "df_carros_pyspark = df_carros\n",
    "df_carros_pyspark = df_carros_pyspark.withColumn(\n",
    "  'id_carro',\n",
    "  col('id_carro').cast('int')\n",
    ").withColumn(\n",
    "  'preco',\n",
    "  col('preco').cast('double')\n",
    ")"
   ]
  },
  {
   "cell_type": "code",
   "execution_count": null,
   "metadata": {},
   "outputs": [],
   "source": [
    "# fazendo com o pyspark com select\n",
    "\n",
    "df_carros_pyspark = df_carros\n",
    "df_carros_pyspark = df_carros_pyspark.select(\n",
    "  'id_carro',\n",
    "  col('id_carro').cast('int'),\n",
    "  col('preco').cast('double')"
   ]
  },
  {
   "cell_type": "code",
   "execution_count": null,
   "metadata": {},
   "outputs": [],
   "source": []
  },
  {
   "cell_type": "code",
   "execution_count": null,
   "metadata": {},
   "outputs": [],
   "source": []
  },
  {
   "cell_type": "code",
   "execution_count": null,
   "metadata": {},
   "outputs": [],
   "source": []
  },
  {
   "cell_type": "code",
   "execution_count": null,
   "metadata": {},
   "outputs": [],
   "source": []
  },
  {
   "cell_type": "code",
   "execution_count": null,
   "metadata": {},
   "outputs": [],
   "source": []
  },
  {
   "cell_type": "code",
   "execution_count": null,
   "metadata": {},
   "outputs": [],
   "source": []
  },
  {
   "cell_type": "code",
   "execution_count": null,
   "metadata": {},
   "outputs": [],
   "source": []
  }
 ],
 "metadata": {
  "kernelspec": {
   "display_name": "Python 3.8.10 64-bit",
   "language": "python",
   "name": "python3"
  },
  "language_info": {
   "name": "python",
   "version": "3.8.10"
  },
  "orig_nbformat": 4,
  "vscode": {
   "interpreter": {
    "hash": "916dbcbb3f70747c44a77c7bcd40155683ae19c65e1c03b4aa3499c5328201f1"
   }
  }
 },
 "nbformat": 4,
 "nbformat_minor": 2
}
