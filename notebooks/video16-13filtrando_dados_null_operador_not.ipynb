{
 "cells": [
  {
   "cell_type": "code",
   "execution_count": null,
   "metadata": {},
   "outputs": [],
   "source": []
  },
  {
   "cell_type": "code",
   "execution_count": null,
   "metadata": {},
   "outputs": [],
   "source": [
    "from pyspark.sql.functions import *\n",
    "\n",
    "df_carros = spark.read.format('csv')\n",
    "  .option('header', True)\n",
    "  .load('../data/modelo_carro').distinct()\n",
    "  \n",
    "df_carros_2 = df_carros.where(\n",
    "  (col('id_carro') == '1') |\n",
    "  (col('id_carro') == '2') |\n",
    "  (col('id_carro') == '3')\n",
    "  \n",
    ")\n",
    "\n",
    "df_carros_3 = df_carros.where(\n",
    "    col('id_carro') == '1'\n",
    " ).withColumn(\n",
    "   'preco',\n",
    "   lit(None)\n",
    ")\n",
    "\n",
    "df_carros = df_carros_2.union(df_carros_3)  \n",
    "\n",
    "  \n",
    "display(df_carros)\n"
   ]
  },
  {
   "cell_type": "code",
   "execution_count": null,
   "metadata": {},
   "outputs": [],
   "source": [
    "# criando tabelas temporarias\n",
    "df_carros = createOrReplaceTempView('carros')\n"
   ]
  },
  {
   "cell_type": "code",
   "execution_count": null,
   "metadata": {},
   "outputs": [],
   "source": [
    "# usando sql com is not null\n",
    "%sql\n",
    "SELECT *\n",
    "FROM df_carros_final cf\n",
    "WHERE preco IS NOT NULL"
   ]
  },
  {
   "cell_type": "code",
   "execution_count": null,
   "metadata": {},
   "outputs": [],
   "source": [
    "# criando um df com sql usando IS NOT NULL\n",
    "\n",
    "df_sql_not_null = spark.sql(''' \n",
    "                         SELECT *\n",
    "                            FROM df_carros_final cf\n",
    "                            WHERE preco IS NOT NULL\n",
    "\n",
    "                ''')\n",
    "\n",
    "display(df_sql_not_null)\n"
   ]
  },
  {
   "cell_type": "code",
   "execution_count": null,
   "metadata": {},
   "outputs": [],
   "source": [
    "# usando sql com is null\n",
    "%sql\n",
    "SELECT *\n",
    "FROM df_carros_final cf\n",
    "WHERE preco IS NULL"
   ]
  },
  {
   "cell_type": "code",
   "execution_count": null,
   "metadata": {},
   "outputs": [],
   "source": [
    "# criando um df com sql usando IS NULL\n",
    "\n",
    "df_sql_is_null = spark.sql(''' \n",
    "                         SELECT *\n",
    "                            FROM df_carros_final cf\n",
    "                            WHERE preco IS NULL\n",
    "\n",
    "                ''')\n",
    "\n",
    "display(df_sql_is_null)"
   ]
  },
  {
   "cell_type": "code",
   "execution_count": null,
   "metadata": {},
   "outputs": [],
   "source": [
    "# is null e is not null (mesmo que IS NULL e IS NOT NULL) com pyspark\n",
    "\n",
    "df_spark_is_not = df_carros.where(\n",
    "  col('preco').isNull()\n",
    ")\n",
    "\n",
    "display(df_spark_is_null)\n",
    "\n",
    "\n",
    "\n",
    "df_spark_is_not_null = df_carros.where(\n",
    "  ~(col('preco').isNull())\n",
    ")\n",
    "\n",
    "display(df_spark_is_not_null)"
   ]
  },
  {
   "cell_type": "code",
   "execution_count": null,
   "metadata": {},
   "outputs": [],
   "source": []
  }
 ],
 "metadata": {
  "kernelspec": {
   "display_name": "Python 3.8.10 64-bit",
   "language": "python",
   "name": "python3"
  },
  "language_info": {
   "name": "python",
   "version": "3.8.10"
  },
  "orig_nbformat": 4,
  "vscode": {
   "interpreter": {
    "hash": "916dbcbb3f70747c44a77c7bcd40155683ae19c65e1c03b4aa3499c5328201f1"
   }
  }
 },
 "nbformat": 4,
 "nbformat_minor": 2
}
