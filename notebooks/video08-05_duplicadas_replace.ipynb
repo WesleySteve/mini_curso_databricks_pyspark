{
 "cells": [
  {
   "cell_type": "code",
   "execution_count": null,
   "metadata": {},
   "outputs": [],
   "source": []
  },
  {
   "cell_type": "code",
   "execution_count": null,
   "metadata": {},
   "outputs": [],
   "source": [
    "# iportando dados com header forma2\n",
    "df_carros = spark.read.format('csv')\n",
    "  .option('header', True)\n",
    "  .option('delimiter', ',')\n",
    "  # .option('encoding', 'utf-8')      \n",
    "  .load('./data/modelo_carro.csv')\n",
    "\n",
    "display(df_carros)"
   ]
  },
  {
   "cell_type": "code",
   "execution_count": null,
   "metadata": {},
   "outputs": [],
   "source": [
    "# filtrando id_carro = 1\n",
    "\n",
    "display(df_carros.where(\"id_carro = '1'\"))"
   ]
  },
  {
   "cell_type": "code",
   "execution_count": null,
   "metadata": {},
   "outputs": [],
   "source": [
    "# criando tabela temporaria\n",
    "df_carros.createOrReplaceTempView('carros')"
   ]
  },
  {
   "cell_type": "code",
   "execution_count": null,
   "metadata": {},
   "outputs": [],
   "source": [
    "# fazendo select com %sql eliminando duplicados\n",
    "%sql\n",
    "SELECT DISTINCT *\n",
    "FROM carros"
   ]
  },
  {
   "cell_type": "code",
   "execution_count": null,
   "metadata": {},
   "outputs": [],
   "source": [
    "# fazendo select com %sql aplicando replace\n",
    "%sql\n",
    "SELECT REPLACE (preco, '$', '') AS preco\n",
    "FROM carros"
   ]
  },
  {
   "cell_type": "code",
   "execution_count": null,
   "metadata": {},
   "outputs": [],
   "source": [
    "# fazendo o mesmo processo anterior adicionando um novo filtro (opcao1)\n",
    "from pyspark.sql.functions import *\n",
    "\n",
    "df_carros_spark = df_carros.where(\n",
    "    [col(\"id_carro\") == \"1\"] |\n",
    "    [col(\"modelo_carro\") == \"Golf\"]\n",
    "    \n",
    "display(df_carros_spark) "
   ]
  },
  {
   "cell_type": "code",
   "execution_count": null,
   "metadata": {},
   "outputs": [],
   "source": [
    "# fazendo select com pyspark eliminando duplicados\n",
    "df_carros.pyspark_distinct = df_carros.distinct()\n",
    "# ou são iguais\n",
    "df_carros.pyspark = df_carros.dropduplicates()"
   ]
  },
  {
   "cell_type": "code",
   "execution_count": null,
   "metadata": {},
   "outputs": [],
   "source": [
    "# fazendo select com pyspark aplicando replace (opcao1)\n",
    "from pyspark.sql.functions import regexp_replace\n",
    "df_carros.pyspark_replace = df_carros\n",
    "df_carros.pyspark_replace = df_carros.withColumn('preco', regexp_replace('preco', '\\$', ''))"
   ]
  },
  {
   "cell_type": "code",
   "execution_count": null,
   "metadata": {},
   "outputs": [],
   "source": [
    "# fazendo select com pyspark aplicando replace (opcao2)\n",
    "from pyspark.sql.functions import regexp_replace\n",
    "df_carros.pyspark_replace_novo = df_carros.withColumn('preco', regexp_replace('preco', '\\$', ''))\n"
   ]
  },
  {
   "cell_type": "code",
   "execution_count": null,
   "metadata": {},
   "outputs": [],
   "source": []
  }
 ],
 "metadata": {
  "kernelspec": {
   "display_name": "Python 3.8.10 64-bit",
   "language": "python",
   "name": "python3"
  },
  "language_info": {
   "name": "python",
   "version": "3.8.10"
  },
  "orig_nbformat": 4,
  "vscode": {
   "interpreter": {
    "hash": "916dbcbb3f70747c44a77c7bcd40155683ae19c65e1c03b4aa3499c5328201f1"
   }
  }
 },
 "nbformat": 4,
 "nbformat_minor": 2
}
