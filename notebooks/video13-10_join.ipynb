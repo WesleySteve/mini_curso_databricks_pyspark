{
 "cells": [
  {
   "cell_type": "code",
   "execution_count": null,
   "metadata": {},
   "outputs": [],
   "source": []
  },
  {
   "cell_type": "code",
   "execution_count": null,
   "metadata": {},
   "outputs": [],
   "source": [
    "from pyspark.sql.functions import *\n",
    "\n",
    "df_carros = spark.read.format('csv')\n",
    "  .option('header', True)\n",
    "  .load('../data/modelo_carro')\n",
    "  \n",
    "df_marcas = spark.read.format('csv')\n",
    "  .option('header', True)\n",
    "  .load('../data/marcas')\n",
    "  \n",
    "display(df_carros)\n",
    "display(df_marcas)"
   ]
  },
  {
   "cell_type": "code",
   "execution_count": null,
   "metadata": {},
   "outputs": [],
   "source": [
    "# aplicado essa operacao para remover os dados da tabela carros\n",
    "# para mostrar o left e right join\n",
    "\n",
    "print(df_carros.count())\n",
    "df_carros = df_carros.where(col('cod_marca') != '22').distinct()\n",
    "print(df_carros.count())"
   ]
  },
  {
   "cell_type": "code",
   "execution_count": null,
   "metadata": {},
   "outputs": [],
   "source": [
    "# criando tabelas temporarias\n",
    "df_carros = createOrReplaceTempView('carros')\n",
    "df_marcas = createOrReplaceTempView('marcas')\n"
   ]
  },
  {
   "cell_type": "code",
   "execution_count": null,
   "metadata": {},
   "outputs": [],
   "source": [
    "# criando um df com sql usando inner join\n",
    "\n",
    "df_sql_inner = spark.sql(''' \n",
    "                          SELECT *\n",
    "                          FROM carros c\n",
    "                          INNER JOIN marcas m ON m.cod_marca = c.cod_marca        \n",
    "                ''')\n",
    "\n",
    "display(df_sql_inner)\n",
    "\n"
   ]
  },
  {
   "cell_type": "code",
   "execution_count": null,
   "metadata": {},
   "outputs": [],
   "source": [
    "# usando sql com inner join\n",
    "%sql\n",
    "SELECT *\n",
    "FROM carros c\n",
    "INNER JOIN marcas m ON m.cod_marca = c.cod_marca\n"
   ]
  },
  {
   "cell_type": "code",
   "execution_count": null,
   "metadata": {},
   "outputs": [],
   "source": [
    "# criando um df com sql usando left join\n",
    "\n",
    "df_sql_left = spark.sql(''' \n",
    "                        SELECT *\n",
    "                        FROM  marcas m\n",
    "                        LEFT JOIN carros c ON c.cod_marca = m.cod_marca       \n",
    "                ''')\n",
    "\n",
    "display(df_sql_left)\n"
   ]
  },
  {
   "cell_type": "code",
   "execution_count": null,
   "metadata": {},
   "outputs": [],
   "source": [
    "# usando sql com left join\n",
    "%sql\n",
    "SELECT *\n",
    "FROM  marcas m\n",
    "LEFT JOIN carros c ON c.cod_marca = m.cod_marca"
   ]
  },
  {
   "cell_type": "code",
   "execution_count": null,
   "metadata": {},
   "outputs": [],
   "source": [
    "# criando um df com sql usando right join\n",
    "\n",
    "df_sql_right = spark.sql(''' \n",
    "                  SELECT *\n",
    "                  FROM carros c\n",
    "                  RIGHT JOIN marcas m ON m.cod_marca = c.cod_marca        \n",
    "          ''')\n",
    "\n",
    "display(df_sql_right)"
   ]
  },
  {
   "cell_type": "code",
   "execution_count": null,
   "metadata": {},
   "outputs": [],
   "source": [
    "# usando sql com right join\n",
    "%sql\n",
    "SELECT *\n",
    "FROM carros c\n",
    "RIGHT JOIN marcas m ON m.cod_marca = c.cod_marca"
   ]
  },
  {
   "cell_type": "code",
   "execution_count": null,
   "metadata": {},
   "outputs": [],
   "source": [
    "# inner join com pyspark\n",
    "\n",
    "df_spark_inner = df_carros.join(\n",
    "  df_marcas,\n",
    "  (df_carros.cod_marca == df_marcas.cod_marca),\n",
    "  'inner'\n",
    ")\n",
    "\n",
    "display(df_spark_inner)"
   ]
  },
  {
   "cell_type": "code",
   "execution_count": null,
   "metadata": {},
   "outputs": [],
   "source": [
    "# left join com pyspark\n",
    "\n",
    "df_spark_left = df_marcas.join(\n",
    "  df_carros,\n",
    "  (df_marcas.cod_marca == df_carros.cod_marca),\n",
    "  'left'\n",
    "\n",
    ")\n",
    "\n",
    "display(df_spark_left)"
   ]
  },
  {
   "cell_type": "code",
   "execution_count": null,
   "metadata": {},
   "outputs": [],
   "source": [
    "# right join com pyspark\n",
    "\n",
    "df_spark_right = df_carros.join(\n",
    "  df_marcas,\n",
    "  (df_carros.cod_marca == df_marcas.cod_marca),\n",
    "  'right'\n",
    "  \n",
    ")\n",
    "\n",
    "display(df_spark_right)"
   ]
  },
  {
   "cell_type": "code",
   "execution_count": null,
   "metadata": {},
   "outputs": [],
   "source": [
    "# inner join + select com pyspark \n",
    "\n",
    "df_spark_inner = df_carros.join(\n",
    "  df_marcas,\n",
    "  (df_carros.cod_marca == df_marcas.cod_marca),\n",
    "  'inner'\n",
    ").select(\n",
    "  df_marcas.marca_carro,\n",
    "  df_carros['*']\n",
    ")"
   ]
  },
  {
   "cell_type": "code",
   "execution_count": null,
   "metadata": {},
   "outputs": [],
   "source": []
  }
 ],
 "metadata": {
  "kernelspec": {
   "display_name": "Python 3.8.10 64-bit",
   "language": "python",
   "name": "python3"
  },
  "language_info": {
   "name": "python",
   "version": "3.8.10"
  },
  "orig_nbformat": 4,
  "vscode": {
   "interpreter": {
    "hash": "916dbcbb3f70747c44a77c7bcd40155683ae19c65e1c03b4aa3499c5328201f1"
   }
  }
 },
 "nbformat": 4,
 "nbformat_minor": 2
}
