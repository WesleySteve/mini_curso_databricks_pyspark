{
 "cells": [
  {
   "cell_type": "code",
   "execution_count": null,
   "metadata": {},
   "outputs": [],
   "source": []
  },
  {
   "cell_type": "code",
   "execution_count": null,
   "metadata": {},
   "outputs": [],
   "source": [
    "# importando os dados\n",
    "df1 = spark.read.format('csv').load('./data/modelo_carro.csv')\n",
    "df2 = spark.read.format('csv').load('./data/marca_carro.csv')\n",
    "df3 = spark.read.format('csv').load('./data/marcas_duplicadas.csv')"
   ]
  },
  {
   "cell_type": "code",
   "execution_count": null,
   "metadata": {},
   "outputs": [],
   "source": [
    "# visuzaliar os dados\n",
    "display(df1)"
   ]
  },
  {
   "cell_type": "code",
   "execution_count": null,
   "metadata": {},
   "outputs": [],
   "source": [
    "# exemplo salvando os dados em outro local\n",
    "df1.write.format('csv').save('./save/modelo_carro')"
   ]
  },
  {
   "cell_type": "code",
   "execution_count": null,
   "metadata": {},
   "outputs": [],
   "source": [
    "# salvando os dados em outro local com a opcao de sobreescrever arquivo caso ja esteja la\n",
    "df1.write.format('csv').mode('overwrite').save('./save/modelo_carro')\n",
    "df2.write.format('csv').save('./save/marca_carro')\n",
    "df3.write.format('csv').save('./save/marcas_duplicadas')"
   ]
  },
  {
   "cell_type": "code",
   "execution_count": null,
   "metadata": {},
   "outputs": [],
   "source": [
    "# salvando os dados em outro local com a opcao de append arquivo caso ja esteja la\n",
    "  # ele ira salvar os novos dados no final do arquivo atual\n",
    "df1.write.format('csv').mode('append').save('./save/modelo_carro')"
   ]
  },
  {
   "cell_type": "code",
   "execution_count": null,
   "metadata": {},
   "outputs": [],
   "source": []
  }
 ],
 "metadata": {
  "kernelspec": {
   "display_name": "Python 3.8.10 64-bit",
   "language": "python",
   "name": "python3"
  },
  "language_info": {
   "codemirror_mode": {
    "name": "ipython",
    "version": 3
   },
   "file_extension": ".py",
   "mimetype": "text/x-python",
   "name": "python",
   "nbconvert_exporter": "python",
   "pygments_lexer": "ipython3",
   "version": "3.8.10"
  },
  "orig_nbformat": 4,
  "vscode": {
   "interpreter": {
    "hash": "916dbcbb3f70747c44a77c7bcd40155683ae19c65e1c03b4aa3499c5328201f1"
   }
  }
 },
 "nbformat": 4,
 "nbformat_minor": 2
}
