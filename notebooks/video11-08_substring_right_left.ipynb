{
 "cells": [
  {
   "cell_type": "code",
   "execution_count": null,
   "metadata": {},
   "outputs": [],
   "source": []
  },
  {
   "cell_type": "code",
   "execution_count": null,
   "metadata": {},
   "outputs": [],
   "source": [
    "# iportando dados com header ja defindo sql.functions\n",
    "from pyspark.sql.functions import *\n",
    "\n",
    "df_carros = spark.read.format('csv')\n",
    "  .option('header', True)\n",
    "  .option('delimiter', ',')\n",
    "  # .option('encoding', 'utf-8')      \n",
    "  .load('./data/modelo_carro.csv')\n",
    "\n",
    "df_carros = df_carros.withColumn(\n",
    "  'preco',\n",
    "  regexp_replace(col('preco'), '\\$', '')\n",
    "  \n",
    ")\n",
    "\n",
    "display(df_carros)"
   ]
  },
  {
   "cell_type": "code",
   "execution_count": null,
   "metadata": {},
   "outputs": [],
   "source": [
    "# criando tabela temporária\n",
    "df_carros.createOrReplaceTempView('carros')\n",
    "\n",
    "df_carros_sql_substring = spark.sql('''\n",
    "                        SELECT modelo_carro,\n",
    "                              SUBSTRING(modelo_carro, 2, 3)\n",
    "                        FROM carros\n",
    "                  ''')\n",
    "\n",
    "display(df_carros_sql_substring)\n",
    "\n",
    "df_carros_sql_left = spark.sql('''\n",
    "                        SELECT modelo_carro,\n",
    "                              LEFT(modelo_carro, 2)\n",
    "                        FROM carros\n",
    "                  ''')\n",
    "\n",
    "display(df_carros_sql_left)\n",
    "\n",
    "\n",
    "\n",
    "df_carros_sql_right = spark.sql('''\n",
    "                        SELECT modelo_carro,\n",
    "                              RIGHT(modelo_carro, 3)\n",
    "                        FROM carros\n",
    "                  ''')\n",
    "\n",
    "display(df_carros_sql_right)"
   ]
  },
  {
   "cell_type": "code",
   "execution_count": null,
   "metadata": {},
   "outputs": [],
   "source": [
    "# vizualizando o schema dos dados\n",
    "df_carros_sql_substring.printSchena()\n",
    "df_carros_sql_left.printSchema()\n",
    "df_carros_sql_right.printSchema()"
   ]
  },
  {
   "cell_type": "code",
   "execution_count": null,
   "metadata": {},
   "outputs": [],
   "source": [
    "# SUBSTRING (campo, posicao, qtde_caracteres)\n",
    "%sql\n",
    "SELECT modelo_carro,\n",
    "  SUBSTRING(modelo_carro, 2, 3)\n",
    "FROM carros"
   ]
  },
  {
   "cell_type": "code",
   "execution_count": null,
   "metadata": {},
   "outputs": [],
   "source": [
    "# LEFT (qtde_caracteres da esquerda para direita)\n",
    "%sql\n",
    "SELECT modelo_carro,\n",
    "  LEFT(modelo_carro, 2)\n",
    "FROM carros"
   ]
  },
  {
   "cell_type": "code",
   "execution_count": null,
   "metadata": {},
   "outputs": [],
   "source": [
    "# RIGHT (qtde_caracteres da direita para esquerda)\n",
    "%sql\n",
    "SELECT modelo_carro,\n",
    "  RIGHT(modelo_carro, 3)\n",
    "FROM carros"
   ]
  },
  {
   "cell_type": "code",
   "execution_count": null,
   "metadata": {},
   "outputs": [],
   "source": [
    "# fazendo com o pyspark com SUBSTRING\n",
    "\n",
    "df_carros_pyspark_substring = df_carros\n",
    "df_carros_pyspark_substring = df_carros_pyspark_substring.withColumn(\n",
    "  'modelo_substring', substring('modelo_carro', 1, 3)\n",
    "  \n",
    ")\n",
    "\n",
    "display(df_carros_pyspark_substring)"
   ]
  },
  {
   "cell_type": "code",
   "execution_count": null,
   "metadata": {},
   "outputs": [],
   "source": [
    "# fazendo com o pyspark com LEFT\n",
    "\n",
    "df_carros_pyspark_left = df_carros\n",
    "df_carros_pyspark_left = df_carros_pyspark_left.withColumn(\n",
    "  'modelo_left', expr('LEFT(modelo_carro, 3)')\n",
    "  \n",
    ")\n",
    "\n",
    "display(df_carros_pyspark_left)"
   ]
  },
  {
   "cell_type": "code",
   "execution_count": null,
   "metadata": {},
   "outputs": [],
   "source": [
    "# fazendo com o pyspark com RIGHT\n",
    "\n",
    "df_carros_pyspark_right = df_carros\n",
    "df_carros_pyspark_right = df_carros_pyspark_right.withColumn(\n",
    "  'modelo_right', expr('RIGHT(modelo_carro, 3)')\n",
    "  \n",
    ")\n",
    "\n",
    "display(df_carros_pyspark_right)"
   ]
  },
  {
   "cell_type": "code",
   "execution_count": null,
   "metadata": {},
   "outputs": [],
   "source": [
    "# fazendo com o pyspark com SUBSTRING LEFT RIGHT\n",
    "\n",
    "df_carros_pyspark_completo = df_carros\n",
    "df_carros_pyspark_completo = df_carros_pyspark_completo.withColumn(\n",
    "  'modelo_substring', substring('modelo_carro', 1, 3)\n",
    "  'modelo_left', expr(\"LEFT(modelo_carro, 2)\")\n",
    "  'modelo_right', expr(\"RIGHT(modelo_carro, 3)\")\n",
    "  \n",
    ")\n",
    "\n",
    "display(df_carros_pyspark_completo)"
   ]
  },
  {
   "cell_type": "code",
   "execution_count": null,
   "metadata": {},
   "outputs": [],
   "source": []
  }
 ],
 "metadata": {
  "kernelspec": {
   "display_name": "Python 3.8.10 64-bit",
   "language": "python",
   "name": "python3"
  },
  "language_info": {
   "name": "python",
   "version": "3.8.10"
  },
  "orig_nbformat": 4,
  "vscode": {
   "interpreter": {
    "hash": "916dbcbb3f70747c44a77c7bcd40155683ae19c65e1c03b4aa3499c5328201f1"
   }
  }
 },
 "nbformat": 4,
 "nbformat_minor": 2
}
