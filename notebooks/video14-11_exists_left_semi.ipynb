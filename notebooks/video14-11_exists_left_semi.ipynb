{
 "cells": [
  {
   "cell_type": "code",
   "execution_count": null,
   "metadata": {},
   "outputs": [],
   "source": []
  },
  {
   "cell_type": "code",
   "execution_count": null,
   "metadata": {},
   "outputs": [],
   "source": [
    "from pyspark.sql.functions import *\n",
    "\n",
    "df_carros = spark.read.format('csv')\n",
    "  .option('header', True)\n",
    "  .load('../data/modelo_carro').distinct()\n",
    "  \n",
    "df_carros_source = df_carros.where(\n",
    "  (col('id_carro') == '1') |\n",
    "  (col('id_carro') == '2') |\n",
    "  (col('id_carro') == '3')\n",
    "  \n",
    ")\n",
    "\n",
    "df_carros_final = df_carros.where(\n",
    "  (col('id_carro') == '1') |\n",
    "  (col('id_carro') == '2') |\n",
    "  (col('id_carro') == '3')\n",
    ")\n",
    "\n",
    "  \n",
    "display(df_carros_source)\n",
    "display(df_carros_final)\n"
   ]
  },
  {
   "cell_type": "code",
   "execution_count": null,
   "metadata": {},
   "outputs": [],
   "source": [
    "# criando tabelas temporarias\n",
    "df_carros_source = createOrReplaceTempView('carros_source')\n",
    "df_carros_final = createOrReplaceTempView('carros_final')\n"
   ]
  },
  {
   "cell_type": "code",
   "execution_count": null,
   "metadata": {},
   "outputs": [],
   "source": [
    "# usando sql com exists\n",
    "%sql\n",
    "SELECT *\n",
    "FROM df_carros_final cf\n",
    "WHERE EXISTS (\n",
    "  SELECT *\n",
    "  FROM carros_source cs\n",
    "  WHERE cs.id_carro = cf.id_carro\n",
    ")"
   ]
  },
  {
   "cell_type": "code",
   "execution_count": null,
   "metadata": {},
   "outputs": [],
   "source": [
    "# criando um df com sql usando exists\n",
    "\n",
    "df_sql_exists = spark.sql(''' \n",
    "                         SELECT *\n",
    "                          FROM df_carros_final cf\n",
    "                          WHERE EXISTS (\n",
    "                              SELECT *\n",
    "                              FROM carros_source cs\n",
    "                              WHERE cs.id_carro = cf.id_carro\n",
    "                          )\n",
    "                ''')\n",
    "\n",
    "display(df_sql_exists)\n"
   ]
  },
  {
   "cell_type": "code",
   "execution_count": null,
   "metadata": {},
   "outputs": [],
   "source": [
    "# left semi (mesmo que exists) com pyspark\n",
    "\n",
    "df_spark_left_semi = df_carros_final.join(\n",
    "  df_carros_source,\n",
    "  (df_carros_final.id_carro == df_carros_source.id_carro),\n",
    "  'leftsemi'\n",
    ")\n",
    "\n",
    "display(df_spark_left_semi)"
   ]
  },
  {
   "cell_type": "code",
   "execution_count": null,
   "metadata": {},
   "outputs": [],
   "source": []
  }
 ],
 "metadata": {
  "kernelspec": {
   "display_name": "Python 3.8.10 64-bit",
   "language": "python",
   "name": "python3"
  },
  "language_info": {
   "name": "python",
   "version": "3.8.10"
  },
  "orig_nbformat": 4,
  "vscode": {
   "interpreter": {
    "hash": "916dbcbb3f70747c44a77c7bcd40155683ae19c65e1c03b4aa3499c5328201f1"
   }
  }
 },
 "nbformat": 4,
 "nbformat_minor": 2
}
