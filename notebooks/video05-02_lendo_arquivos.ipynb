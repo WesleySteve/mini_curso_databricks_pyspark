{
 "cells": [
  {
   "cell_type": "code",
   "execution_count": null,
   "metadata": {},
   "outputs": [],
   "source": []
  },
  {
   "cell_type": "code",
   "execution_count": null,
   "metadata": {},
   "outputs": [],
   "source": [
    "# importando os dados\n",
    "  # assim ele carrega os dados sem o header\n",
    "dfcarros = spark.read.format('csv').load('./data/modelo_carro.csv')\n",
    "display(df_carros)"
   ]
  },
  {
   "cell_type": "code",
   "execution_count": null,
   "metadata": {},
   "outputs": [],
   "source": [
    "# iportando dados com header forma1\n",
    "dfcarros = spark.read.format('csv').option('header', True).load('./data/modelo_carro.csv', sep=',')\n",
    "\n",
    "display(dfcarros)"
   ]
  },
  {
   "cell_type": "code",
   "execution_count": null,
   "metadata": {},
   "outputs": [],
   "source": [
    "# iportando dados com header forma2\n",
    "df_carros = spark.read.format('csv')\n",
    "  .option('header', True)\n",
    "  .option('delimiter', ',')\n",
    "  # .option('encoding', 'utf-8')      \n",
    "  .load('./data/modelo_carro.csv')\n",
    "\n",
    "display(df_carros)"
   ]
  },
  {
   "cell_type": "code",
   "execution_count": null,
   "metadata": {},
   "outputs": [],
   "source": [
    "# convertendo um arquivo em parquet\n",
    "  # extensao (.parquet .avro, .json)\n",
    "df_carros.write.format('parquet').save('./bronze/modelo_carro_parquet')"
   ]
  },
  {
   "cell_type": "code",
   "execution_count": null,
   "metadata": {},
   "outputs": [],
   "source": []
  }
 ],
 "metadata": {
  "kernelspec": {
   "display_name": "Python 3.8.10 64-bit",
   "language": "python",
   "name": "python3"
  },
  "language_info": {
   "name": "python",
   "version": "3.8.10"
  },
  "orig_nbformat": 4,
  "vscode": {
   "interpreter": {
    "hash": "916dbcbb3f70747c44a77c7bcd40155683ae19c65e1c03b4aa3499c5328201f1"
   }
  }
 },
 "nbformat": 4,
 "nbformat_minor": 2
}
