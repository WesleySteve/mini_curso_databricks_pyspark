{
 "cells": [
  {
   "cell_type": "code",
   "execution_count": null,
   "metadata": {},
   "outputs": [],
   "source": []
  },
  {
   "cell_type": "code",
   "execution_count": null,
   "metadata": {},
   "outputs": [],
   "source": [
    "from pyspark.sql.functions import *\n",
    "from pyspark.sql.types import *\n",
    "\n",
    "df_carros = spark.read.format('csv')\n",
    "  .option('header', True)\n",
    "  .load('../data/modelo_carro').distinct()\n",
    "\n",
    "  \n",
    "df_carros = df_carros.withColumn(\n",
    "  'preco',\n",
    "  regexp_replace(\n",
    "    'preco', '\\$', ''\n",
    "  ).cast(DoubleTypes())\n",
    ")\n",
    "  \n",
    "display(df_carros)\n"
   ]
  },
  {
   "cell_type": "code",
   "execution_count": null,
   "metadata": {},
   "outputs": [],
   "source": [
    "# criando tabelas temporarias\n",
    "df_carros.createOrReplaceTempView('carros')\n"
   ]
  },
  {
   "cell_type": "code",
   "execution_count": null,
   "metadata": {},
   "outputs": [],
   "source": [
    "# usando sql com agregado SUM , MAX, MIN e GROUP BY\n",
    "%sql\n",
    "SELECT c.modelo_carro\n",
    "    SUM(c.preco) AS sum_preco,\n",
    "    MAX(c.preco) AS max_preco,\n",
    "    MIN(c.preco) AS min_preco\n",
    "FROM carros c\n",
    "GROUP BY c.modelo_carro\n"
   ]
  },
  {
   "cell_type": "code",
   "execution_count": null,
   "metadata": {},
   "outputs": [],
   "source": [
    "# criando um df com sql usando agregacao\n",
    "\n",
    "df_sql_agregacao = spark.sql(''' \n",
    "                         SELECT c.modelo_carro\n",
    "                               SUM(c.preco) AS sum_preco,\n",
    "                               MAX(c.preco) AS max_preco,\n",
    "                               MIN(c.preco) AS min_preco\n",
    "                          FROM carros c\n",
    "                          GROUP BY c.modelo_carro\n",
    "\n",
    "                ''')\n",
    "\n",
    "display(df_sql_agregacao)\n"
   ]
  },
  {
   "cell_type": "code",
   "execution_count": null,
   "metadata": {},
   "outputs": [],
   "source": [
    "# funcao agregacao com pyspark\n",
    "\n",
    "df_carros_agregacao_spark = df_carros.groupBy(\n",
    "  'modelo_carro'\n",
    ").agg(\n",
    "  sum('preco').alias('sum_preco'),\n",
    "  max('preco').alias('max_preco'),\n",
    "  min('preco').alias('min_preco')\n",
    "  \n",
    ")\n",
    "\n",
    "\n",
    "display(df_carros_agregacao_spark)\n"
   ]
  },
  {
   "cell_type": "code",
   "execution_count": null,
   "metadata": {},
   "outputs": [],
   "source": []
  }
 ],
 "metadata": {
  "kernelspec": {
   "display_name": "Python 3.8.10 64-bit",
   "language": "python",
   "name": "python3"
  },
  "language_info": {
   "name": "python",
   "version": "3.8.10"
  },
  "orig_nbformat": 4,
  "vscode": {
   "interpreter": {
    "hash": "916dbcbb3f70747c44a77c7bcd40155683ae19c65e1c03b4aa3499c5328201f1"
   }
  }
 },
 "nbformat": 4,
 "nbformat_minor": 2
}
