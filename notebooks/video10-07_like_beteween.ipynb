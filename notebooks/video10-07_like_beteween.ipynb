{
 "cells": [
  {
   "cell_type": "code",
   "execution_count": null,
   "metadata": {},
   "outputs": [],
   "source": []
  },
  {
   "cell_type": "code",
   "execution_count": null,
   "metadata": {},
   "outputs": [],
   "source": [
    "# iportando dados com header ja defindo sql.functions\n",
    "from pyspark.sql.functions import *\n",
    "\n",
    "df_carros = spark.read.format('csv')\n",
    "  .option('header', True)\n",
    "  .option('delimiter', ',')\n",
    "  # .option('encoding', 'utf-8')      \n",
    "  .load('./data/modelo_carro.csv')\n",
    "\n",
    "df_carros = df_carros.withColumn(\n",
    "  'preco',\n",
    "  regexp_replace(col('preco'), '\\$', '')\n",
    "  \n",
    ")\n",
    "\n",
    "display(df_carros)"
   ]
  },
  {
   "cell_type": "code",
   "execution_count": null,
   "metadata": {},
   "outputs": [],
   "source": [
    "# criando tabela temporária\n",
    "df_carros.createOrReplaceTempView('carros')\n",
    "\n",
    "df_carros_sql_like = spark.sql('''\n",
    "                        SELECT CAST(id_carro AS INT) AS id_carro,\n",
    "                            modelo_carro,\n",
    "                            CAST(preco AS DOUBLE) AS preco,\n",
    "                            CAST(cod_marca AS INT) AS cod_marca\n",
    "                        FROM carros\n",
    "                        WHERE modelo_carro LIKE '%G'\n",
    "                  ''')\n",
    "\n",
    "display(df_carros_sql_like)\n",
    "\n",
    "df_carros_sql_between = spark.sql('''\n",
    "                        SELECT CAST(id_carro AS INT) AS id_carro,\n",
    "                            modelo_carro,\n",
    "                            CAST(preco AS DOUBLE) AS preco,\n",
    "                            CAST(cod_marca AS INT) AS cod_marca\n",
    "                        FROM carros\n",
    "                        WHERE preco BETWEEN 30000 AND 70000\n",
    "                  ''')\n",
    "\n",
    "display(df_carros_sql_between)"
   ]
  },
  {
   "cell_type": "code",
   "execution_count": null,
   "metadata": {},
   "outputs": [],
   "source": [
    "# vizualizando o schema dos dados\n",
    "df_carros_sql_like.printSchena()\n",
    "df_carros_sql_between.printSchena()"
   ]
  },
  {
   "cell_type": "code",
   "execution_count": null,
   "metadata": {},
   "outputs": [],
   "source": [
    "# tipagem do campos e usando LiKE\n",
    "%sql\n",
    "SELECT CAST(id_carro AS INT) AS id_carro,\n",
    "      modelo_carro,\n",
    "      CAST(preco AS DOUBLE) AS preco,\n",
    "      CAST(cod_marca AS INT) AS cod_marca\n",
    "FROM carros\n",
    "WHERE modelo_carro LIKE '%G'"
   ]
  },
  {
   "cell_type": "code",
   "execution_count": null,
   "metadata": {},
   "outputs": [],
   "source": [
    "# tipagem do campos e usando BETWEEN\n",
    "%sql\n",
    "SELECT CAST(id_carro AS INT) AS id_carro,\n",
    "      modelo_carro,\n",
    "      CAST(preco AS DOUBLE) AS preco,\n",
    "      CAST(cod_marca AS INT) AS cod_marca\n",
    "FROM carros\n",
    "WHERE preco BETWEEN 30000 AND 75000"
   ]
  },
  {
   "cell_type": "code",
   "execution_count": null,
   "metadata": {},
   "outputs": [],
   "source": [
    "# fazendo com o pyspark com LIKE\n",
    "\n",
    "df_carros_pyspark_like = df_carros\n",
    "df_carros_pyspark_like = df_carros_pyspark_like.where(\n",
    "  col('modelo_carro').like('%G')\n",
    ")\n",
    "\n",
    "display(df_carros_pyspark_like)"
   ]
  },
  {
   "cell_type": "code",
   "execution_count": null,
   "metadata": {},
   "outputs": [],
   "source": [
    "# fazendo com o pyspark com BETWEEN\n",
    "\n",
    "f_carros_pyspark_between = df_carros\n",
    "f_carros_pyspark_between = f_carros_pyspark_between.where(\n",
    "  col('preco').between(30000, 70000)\n",
    ")\n",
    "\n",
    "display(df_carros_pyspark_between)"
   ]
  },
  {
   "cell_type": "code",
   "execution_count": null,
   "metadata": {},
   "outputs": [],
   "source": []
  },
  {
   "cell_type": "code",
   "execution_count": null,
   "metadata": {},
   "outputs": [],
   "source": []
  },
  {
   "cell_type": "code",
   "execution_count": null,
   "metadata": {},
   "outputs": [],
   "source": []
  },
  {
   "cell_type": "code",
   "execution_count": null,
   "metadata": {},
   "outputs": [],
   "source": []
  },
  {
   "cell_type": "code",
   "execution_count": null,
   "metadata": {},
   "outputs": [],
   "source": []
  },
  {
   "cell_type": "code",
   "execution_count": null,
   "metadata": {},
   "outputs": [],
   "source": []
  },
  {
   "cell_type": "code",
   "execution_count": null,
   "metadata": {},
   "outputs": [],
   "source": []
  }
 ],
 "metadata": {
  "kernelspec": {
   "display_name": "Python 3.8.10 64-bit",
   "language": "python",
   "name": "python3"
  },
  "language_info": {
   "name": "python",
   "version": "3.8.10"
  },
  "orig_nbformat": 4,
  "vscode": {
   "interpreter": {
    "hash": "916dbcbb3f70747c44a77c7bcd40155683ae19c65e1c03b4aa3499c5328201f1"
   }
  }
 },
 "nbformat": 4,
 "nbformat_minor": 2
}
