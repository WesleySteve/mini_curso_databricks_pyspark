{
 "cells": [
  {
   "cell_type": "code",
   "execution_count": null,
   "metadata": {},
   "outputs": [],
   "source": [
    "# row_number \n",
    "  # escolhe uma coluna da tabela e ordena ela por outro valor\n",
    "    # com uma tabela carro possuo duas vez o nome fusca \n",
    "      # sendo um com o valor 10mil e o outro com o valor 5mil\n",
    "      # onde o row_number irá colocar um ID unico para cada linha\n",
    "      # de acordo com o preco"
   ]
  },
  {
   "cell_type": "code",
   "execution_count": null,
   "metadata": {},
   "outputs": [],
   "source": [
    "from pyspark.sql.functions import *\n",
    "from pyspark.sql.types import *\n",
    "\n",
    "df_carros = spark.read.format('csv')\n",
    "  .option('header', True)\n",
    "  .load('../data/modelo_carro').distinct()\n",
    "\n",
    "  \n",
    "df_carros = df_carros.withColumn(\n",
    "  'preco',\n",
    "  regexp_replace(\n",
    "    'preco', '\\$', ''\n",
    "  ).cast(DoubleTypes())\n",
    ")\n",
    "  \n",
    "display(df_carros)\n"
   ]
  },
  {
   "cell_type": "code",
   "execution_count": null,
   "metadata": {},
   "outputs": [],
   "source": [
    "# criando tabelas temporarias\n",
    "df_carros.createOrReplaceTempView('carros')\n"
   ]
  },
  {
   "cell_type": "code",
   "execution_count": null,
   "metadata": {},
   "outputs": [],
   "source": [
    "# usando sql com row_number\n",
    "%sql\n",
    "SELECT *,\n",
    "    ROW_NUMBER() OVER (PARTITION BY modelo_carro ORDER BY preco ASC) row_number\n",
    "FROM carros \n",
    "\n"
   ]
  },
  {
   "cell_type": "code",
   "execution_count": null,
   "metadata": {},
   "outputs": [],
   "source": [
    "# criando um df com sql usando row_number\n",
    "\n",
    "df_sql_row_number = spark.sql(''' \n",
    "                        SELECT *,\n",
    "                            ROW_NUMBER() OVER (PARTITION BY modelo_carro ORDER BY preco ASC) row_number\n",
    "                        FROM carros \n",
    "\n",
    "\n",
    "                ''')\n",
    "\n",
    "display(df_sql_row_number)\n"
   ]
  },
  {
   "cell_type": "code",
   "execution_count": null,
   "metadata": {},
   "outputs": [],
   "source": [
    "# funcao row_number com orderBy ASC com pyspark\n",
    "\n",
    "df_carros_row_number_asc_spark = df_carros.withColumn(\n",
    "  'row_number',\n",
    "  row_number().over(\n",
    "    Window.partitionBy('modelo_carro').orderBy('preco')\n",
    "  )\n",
    ")\n",
    "\n",
    "\n",
    "display(df_carros_row_number_asc_spark)\n"
   ]
  },
  {
   "cell_type": "code",
   "execution_count": null,
   "metadata": {},
   "outputs": [],
   "source": [
    "# funcao row_number com orderBy DESC com pyspark\n",
    "\n",
    "df_carros_row_number_desc_spark = df_carros.withColumn(\n",
    "  'row_number',\n",
    "  row_number().over(\n",
    "    Window.partitionBy('modelo_carro').orderBy(col('preco').desc())\n",
    "  )\n",
    ")\n",
    "\n",
    "\n",
    "display(df_carros_row_number_desc_spark)\n"
   ]
  }
 ],
 "metadata": {
  "kernelspec": {
   "display_name": "Python 3.8.10 64-bit",
   "language": "python",
   "name": "python3"
  },
  "language_info": {
   "name": "python",
   "version": "3.8.10"
  },
  "orig_nbformat": 4,
  "vscode": {
   "interpreter": {
    "hash": "916dbcbb3f70747c44a77c7bcd40155683ae19c65e1c03b4aa3499c5328201f1"
   }
  }
 },
 "nbformat": 4,
 "nbformat_minor": 2
}
